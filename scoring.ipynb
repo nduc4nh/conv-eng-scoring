{
 "cells": [
  {
   "cell_type": "code",
   "execution_count": 7,
   "id": "9d3de02c-1767-475f-98ce-496a1e041ad8",
   "metadata": {},
   "outputs": [],
   "source": [
    "# score coherence\n",
    "from sentence_transformers import SentenceTransformer, util\n",
    "\n",
    "GLOSS = {\n",
    "    \"business\": [\"đặt phòng khám\", \"tái khám\", \"hẹn lịch khám\", \"đo kính mắt\", \"mua bán\"],\n",
    "    \"expertise\": [\"thị giác\", \"nhược thị\", \"tật khúc xạ\", \"bệnh về mắt\", \"khám mắt cho trẻ em\", \"bác sĩ mắt\"],\n",
    "}\n",
    "\n",
    "def score_coh(sentence, model):\n",
    "    s_embd = model.encode(sentence)\n",
    "    domains = list(GLOSS.keys())\n",
    "    \n",
    "    score = 0\n",
    "    \n",
    "    for k in domains:\n",
    "        for term in GLOSS[k]: \n",
    "            w_embd = model.encode(term)\n",
    "            score += util.cos_sim(w_embd, s_embd)\n",
    "    \n",
    "    return score    "
   ]
  },
  {
   "cell_type": "code",
   "execution_count": 12,
   "id": "1c046907-a5d0-4b6e-ab51-5d776d4487bd",
   "metadata": {},
   "outputs": [
    {
     "data": {
      "text/plain": [
       "tensor([[3.0575]])"
      ]
     },
     "execution_count": 12,
     "metadata": {},
     "output_type": "execute_result"
    }
   ],
   "source": [
    "model_semantic = SentenceTransformer(\"./vietnamese-sbert/\")\n",
    "score_coh(\"Em có con nhỏ đang bị cận muốn cho đi khám bác ạ được không ạ\", model_semantic)"
   ]
  },
  {
   "cell_type": "code",
   "execution_count": 13,
   "id": "bbe01737-0eb7-43ef-9f1d-23030a7bf38b",
   "metadata": {},
   "outputs": [],
   "source": [
    "# score interest\n",
    "import torch\n",
    "from transformers import RobertaForSequenceClassification, AutoTokenizer\n",
    "\n",
    "def score_interest(sentence, model, tokenizer):\n",
    "    input_ids = torch.tensor([tokenizer.encode(sentence)])\n",
    "    with torch.no_grad():\n",
    "        out = model(input_ids)\n",
    "        # print(out.logits.softmax(dim=-1).tolist())\n",
    "    return out.logits.softmax(dim=-1).tolist() \n",
    "\n",
    "# Just like PhoBERT: INPUT TEXT MUST BE ALREADY WORD-SEGMENTED!\n"
   ]
  },
  {
   "cell_type": "code",
   "execution_count": 14,
   "id": "3362a479-39ec-4bc8-96a4-ab25a195cde0",
   "metadata": {},
   "outputs": [
    {
     "data": {
      "text/plain": [
       "[[0.007860301062464714, 0.8275406956672668, 0.16459901630878448]]"
      ]
     },
     "execution_count": 14,
     "metadata": {},
     "output_type": "execute_result"
    }
   ],
   "source": [
    "model = RobertaForSequenceClassification.from_pretrained(\"./phobert-base-vietnamese-sentiment\")\n",
    "\n",
    "tokenizer = AutoTokenizer.from_pretrained(\"./phobert-base-vietnamese-sentiment\", use_fast=False)\n",
    "\n",
    "score_interest(\"được đấy\", model, tokenizer)"
   ]
  },
  {
   "cell_type": "code",
   "execution_count": 18,
   "id": "a8c03191-28bc-4123-bf1f-19ca18890c62",
   "metadata": {},
   "outputs": [
    {
     "data": {
      "text/html": [
       "<div>\n",
       "<style scoped>\n",
       "    .dataframe tbody tr th:only-of-type {\n",
       "        vertical-align: middle;\n",
       "    }\n",
       "\n",
       "    .dataframe tbody tr th {\n",
       "        vertical-align: top;\n",
       "    }\n",
       "\n",
       "    .dataframe thead th {\n",
       "        text-align: right;\n",
       "    }\n",
       "</style>\n",
       "<table border=\"1\" class=\"dataframe\">\n",
       "  <thead>\n",
       "    <tr style=\"text-align: right;\">\n",
       "      <th></th>\n",
       "      <th>Sentence</th>\n",
       "      <th>response_time</th>\n",
       "    </tr>\n",
       "  </thead>\n",
       "  <tbody>\n",
       "    <tr>\n",
       "      <th>0</th>\n",
       "      <td>ko phải con mình , mà xem còn thấy đau như vậy...</td>\n",
       "      <td>10</td>\n",
       "    </tr>\n",
       "    <tr>\n",
       "      <th>1</th>\n",
       "      <td>per nghe đi rồi khóc 1 trận cho thoải mái . đừ...</td>\n",
       "      <td>961</td>\n",
       "    </tr>\n",
       "    <tr>\n",
       "      <th>2</th>\n",
       "      <td>công nhận sáng tạo thật đấy</td>\n",
       "      <td>9</td>\n",
       "    </tr>\n",
       "    <tr>\n",
       "      <th>3</th>\n",
       "      <td>đòn tấn công cực gắt và cục sút của anh 😂😂😂</td>\n",
       "      <td>69</td>\n",
       "    </tr>\n",
       "    <tr>\n",
       "      <th>4</th>\n",
       "      <td>trời nắng nóng thế này mình muốn bán nước khôn...</td>\n",
       "      <td>9604</td>\n",
       "    </tr>\n",
       "    <tr>\n",
       "      <th>5</th>\n",
       "      <td>minh biết nữa ne</td>\n",
       "      <td>90</td>\n",
       "    </tr>\n",
       "    <tr>\n",
       "      <th>6</th>\n",
       "      <td>mấy thằng củ lol việt nam nhảm nhí :))</td>\n",
       "      <td>5</td>\n",
       "    </tr>\n",
       "    <tr>\n",
       "      <th>7</th>\n",
       "      <td>tui thi ́ ch va ̉ i lă ́ mày ma ̀ ăn nhỉ ̀ u n...</td>\n",
       "      <td>76</td>\n",
       "    </tr>\n",
       "    <tr>\n",
       "      <th>8</th>\n",
       "      <td>bếp dầu , nhiều nhà vẫn dùng</td>\n",
       "      <td>1225</td>\n",
       "    </tr>\n",
       "  </tbody>\n",
       "</table>\n",
       "</div>"
      ],
      "text/plain": [
       "                                            Sentence  response_time\n",
       "0  ko phải con mình , mà xem còn thấy đau như vậy...             10\n",
       "1  per nghe đi rồi khóc 1 trận cho thoải mái . đừ...            961\n",
       "2                        công nhận sáng tạo thật đấy              9\n",
       "3        đòn tấn công cực gắt và cục sút của anh 😂😂😂             69\n",
       "4  trời nắng nóng thế này mình muốn bán nước khôn...           9604\n",
       "5                                   minh biết nữa ne             90\n",
       "6             mấy thằng củ lol việt nam nhảm nhí :))              5\n",
       "7  tui thi ́ ch va ̉ i lă ́ mày ma ̀ ăn nhỉ ̀ u n...             76\n",
       "8                       bếp dầu , nhiều nhà vẫn dùng           1225"
      ]
     },
     "execution_count": 18,
     "metadata": {},
     "output_type": "execute_result"
    }
   ],
   "source": [
    "import pandas as pd\n",
    "df = pd.read_excel(\"../datasets/conversation_1.xlsx\")\n",
    "df"
   ]
  },
  {
   "cell_type": "code",
   "execution_count": 24,
   "id": "e1c0bc7d-e9c3-42bd-bd92-819636d94f9a",
   "metadata": {},
   "outputs": [
    {
     "data": {
      "text/html": [
       "<div>\n",
       "<style scoped>\n",
       "    .dataframe tbody tr th:only-of-type {\n",
       "        vertical-align: middle;\n",
       "    }\n",
       "\n",
       "    .dataframe tbody tr th {\n",
       "        vertical-align: top;\n",
       "    }\n",
       "\n",
       "    .dataframe thead th {\n",
       "        text-align: right;\n",
       "    }\n",
       "</style>\n",
       "<table border=\"1\" class=\"dataframe\">\n",
       "  <thead>\n",
       "    <tr style=\"text-align: right;\">\n",
       "      <th></th>\n",
       "      <th>Sentence</th>\n",
       "      <th>response_time</th>\n",
       "    </tr>\n",
       "  </thead>\n",
       "  <tbody>\n",
       "    <tr>\n",
       "      <th>0</th>\n",
       "      <td>mình thi xong còn không khóc được 😢</td>\n",
       "      <td>11</td>\n",
       "    </tr>\n",
       "    <tr>\n",
       "      <th>1</th>\n",
       "      <td>mỗi ngày mình ôm nhau 1 cái như này hén , hí hí</td>\n",
       "      <td>28</td>\n",
       "    </tr>\n",
       "    <tr>\n",
       "      <th>2</th>\n",
       "      <td>per trừ điểm , trừ điểm</td>\n",
       "      <td>80</td>\n",
       "    </tr>\n",
       "    <tr>\n",
       "      <th>3</th>\n",
       "      <td>5 triệu , phạt một con mụ lừa đảo , phá hủy ni...</td>\n",
       "      <td>1</td>\n",
       "    </tr>\n",
       "    <tr>\n",
       "      <th>4</th>\n",
       "      <td>cả tuần không được nói chuyện</td>\n",
       "      <td>900</td>\n",
       "    </tr>\n",
       "    <tr>\n",
       "      <th>5</th>\n",
       "      <td>per mày cẩn thận tao giết</td>\n",
       "      <td>28</td>\n",
       "    </tr>\n",
       "    <tr>\n",
       "      <th>6</th>\n",
       "      <td>cạn lời với bọn súc vật này làm xấu mặt người ...</td>\n",
       "      <td>4</td>\n",
       "    </tr>\n",
       "    <tr>\n",
       "      <th>7</th>\n",
       "      <td>bài này tao có 2 cảm xúc . đầu tiên về quán tr...</td>\n",
       "      <td>74</td>\n",
       "    </tr>\n",
       "  </tbody>\n",
       "</table>\n",
       "</div>"
      ],
      "text/plain": [
       "                                            Sentence  response_time\n",
       "0                mình thi xong còn không khóc được 😢             11\n",
       "1    mỗi ngày mình ôm nhau 1 cái như này hén , hí hí             28\n",
       "2                            per trừ điểm , trừ điểm             80\n",
       "3  5 triệu , phạt một con mụ lừa đảo , phá hủy ni...              1\n",
       "4                      cả tuần không được nói chuyện            900\n",
       "5                          per mày cẩn thận tao giết             28\n",
       "6  cạn lời với bọn súc vật này làm xấu mặt người ...              4\n",
       "7  bài này tao có 2 cảm xúc . đầu tiên về quán tr...             74"
      ]
     },
     "execution_count": 24,
     "metadata": {},
     "output_type": "execute_result"
    }
   ],
   "source": [
    "import pandas as pd\n",
    "df2 = pd.read_excel(\"../datasets/conversation_7.xlsx\")\n",
    "df2"
   ]
  },
  {
   "cell_type": "code",
   "execution_count": 19,
   "id": "c4a85f7e-1985-47fd-9007-31baff302832",
   "metadata": {},
   "outputs": [
    {
     "data": {
      "text/plain": [
       "9"
      ]
     },
     "execution_count": 19,
     "metadata": {},
     "output_type": "execute_result"
    }
   ],
   "source": [
    "df.iloc[2,1]"
   ]
  },
  {
   "cell_type": "code",
   "execution_count": 20,
   "id": "2f127dcf-6cfa-448c-8eb2-369a49b932d9",
   "metadata": {},
   "outputs": [],
   "source": [
    "import numpy as np\n",
    "def proc_sentiment(sent):\n",
    "    if np.argmax(sent) == 0:\n",
    "        return abs(sent[1] - sent[2])\n",
    "    elif np.argmax(sent) == 1:\n",
    "        return sent[1]\n",
    "    else:\n",
    "        return -sent[2]\n",
    "\n",
    "def conversation_value(data):\n",
    "    model_semantic = SentenceTransformer(\"./vietnamese-sbert/\")\n",
    "    model = RobertaForSequenceClassification.from_pretrained(\"./phobert-base-vietnamese-sentiment\")\n",
    "    tokenizer = AutoTokenizer.from_pretrained(\"./phobert-base-vietnamese-sentiment\", use_fast=False)\n",
    "    \n",
    "    val = 0\n",
    "    for i, sentence in enumerate(list(data.Sentence)):\n",
    "        val += score_coh(sentence, model_semantic)\n",
    "        sent = score_interest(sentence, model, tokenizer)\n",
    "        if i == 0: val += proc_sentiment(sent[0])\n",
    "        else: val += proc_sentiment(sent[0]) / data.iloc[i, 1]\n",
    "    \n",
    "    return val"
   ]
  },
  {
   "cell_type": "code",
   "execution_count": 21,
   "id": "78dc8cda-1847-4be0-b64b-3171f2d1ec5f",
   "metadata": {},
   "outputs": [
    {
     "data": {
      "text/plain": [
       "tensor([[11.0799]])"
      ]
     },
     "execution_count": 21,
     "metadata": {},
     "output_type": "execute_result"
    }
   ],
   "source": [
    "conversation_value(df)"
   ]
  },
  {
   "cell_type": "code",
   "execution_count": 25,
   "id": "366ea62f-98ee-4ca3-ba5e-601d98c2d2c3",
   "metadata": {},
   "outputs": [
    {
     "data": {
      "text/plain": [
       "tensor([[7.4449]])"
      ]
     },
     "execution_count": 25,
     "metadata": {},
     "output_type": "execute_result"
    }
   ],
   "source": [
    "conversation_value(df2)"
   ]
  },
  {
   "cell_type": "code",
   "execution_count": 31,
   "id": "c9450ec3-772e-4890-a9d0-0ba4ec78d688",
   "metadata": {},
   "outputs": [],
   "source": [
    "df_test = pd.DataFrame({\n",
    "    \"Sentence\":[\"Chào bác sĩ\", \"vâng ah\", \"cháu nhà em 8 tuổi đang bị mờ một bên mắt\", \"vậy em đưa cháu khám lúc 8h nhé\", \"dạ vâng em cảm ơn bác sĩ\", \"à em hỏi thêm tí ạ\", \"bao giờ thì mình có đơn thuốc\"],\n",
    "    \"response_time\":[1,2,4,3,2,3,4]\n",
    "})"
   ]
  },
  {
   "cell_type": "code",
   "execution_count": 32,
   "id": "0b325182-9a78-4182-9e55-3ef41df133e4",
   "metadata": {},
   "outputs": [
    {
     "data": {
      "text/html": [
       "<div>\n",
       "<style scoped>\n",
       "    .dataframe tbody tr th:only-of-type {\n",
       "        vertical-align: middle;\n",
       "    }\n",
       "\n",
       "    .dataframe tbody tr th {\n",
       "        vertical-align: top;\n",
       "    }\n",
       "\n",
       "    .dataframe thead th {\n",
       "        text-align: right;\n",
       "    }\n",
       "</style>\n",
       "<table border=\"1\" class=\"dataframe\">\n",
       "  <thead>\n",
       "    <tr style=\"text-align: right;\">\n",
       "      <th></th>\n",
       "      <th>Sentence</th>\n",
       "      <th>response_time</th>\n",
       "    </tr>\n",
       "  </thead>\n",
       "  <tbody>\n",
       "    <tr>\n",
       "      <th>0</th>\n",
       "      <td>Chào bác sĩ</td>\n",
       "      <td>1</td>\n",
       "    </tr>\n",
       "    <tr>\n",
       "      <th>1</th>\n",
       "      <td>vâng ah</td>\n",
       "      <td>2</td>\n",
       "    </tr>\n",
       "    <tr>\n",
       "      <th>2</th>\n",
       "      <td>cháu nhà em 8 tuổi đang bị mờ một bên mắt</td>\n",
       "      <td>4</td>\n",
       "    </tr>\n",
       "    <tr>\n",
       "      <th>3</th>\n",
       "      <td>vậy em đưa cháu khám lúc 8h nhé</td>\n",
       "      <td>3</td>\n",
       "    </tr>\n",
       "    <tr>\n",
       "      <th>4</th>\n",
       "      <td>dạ vâng em cảm ơn bác sĩ</td>\n",
       "      <td>2</td>\n",
       "    </tr>\n",
       "    <tr>\n",
       "      <th>5</th>\n",
       "      <td>à em hỏi thêm tí ạ</td>\n",
       "      <td>3</td>\n",
       "    </tr>\n",
       "    <tr>\n",
       "      <th>6</th>\n",
       "      <td>bao giờ thì mình có đơn thuốc</td>\n",
       "      <td>4</td>\n",
       "    </tr>\n",
       "  </tbody>\n",
       "</table>\n",
       "</div>"
      ],
      "text/plain": [
       "                                    Sentence  response_time\n",
       "0                                Chào bác sĩ              1\n",
       "1                                    vâng ah              2\n",
       "2  cháu nhà em 8 tuổi đang bị mờ một bên mắt              4\n",
       "3            vậy em đưa cháu khám lúc 8h nhé              3\n",
       "4                   dạ vâng em cảm ơn bác sĩ              2\n",
       "5                         à em hỏi thêm tí ạ              3\n",
       "6              bao giờ thì mình có đơn thuốc              4"
      ]
     },
     "execution_count": 32,
     "metadata": {},
     "output_type": "execute_result"
    }
   ],
   "source": [
    "df_test"
   ]
  },
  {
   "cell_type": "code",
   "execution_count": 33,
   "id": "71ff83ba-fcae-4702-8173-da40b883fcc3",
   "metadata": {},
   "outputs": [
    {
     "data": {
      "text/plain": [
       "tensor([[14.4940]])"
      ]
     },
     "execution_count": 33,
     "metadata": {},
     "output_type": "execute_result"
    }
   ],
   "source": [
    "conversation_value(df_test)"
   ]
  }
 ],
 "metadata": {
  "kernelspec": {
   "display_name": "Python 3 (ipykernel)",
   "language": "python",
   "name": "python3"
  },
  "language_info": {
   "codemirror_mode": {
    "name": "ipython",
    "version": 3
   },
   "file_extension": ".py",
   "mimetype": "text/x-python",
   "name": "python",
   "nbconvert_exporter": "python",
   "pygments_lexer": "ipython3",
   "version": "3.9.12"
  }
 },
 "nbformat": 4,
 "nbformat_minor": 5
}
