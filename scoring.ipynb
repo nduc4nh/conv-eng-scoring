{
 "cells": [
  {
   "cell_type": "code",
   "execution_count": 7,
   "id": "9d3de02c-1767-475f-98ce-496a1e041ad8",
   "metadata": {},
   "outputs": [],
   "source": [
    "# score coherence\n",
    "from sentence_transformers import SentenceTransformer, util\n",
    "\n",
    "GLOSS = {\n",
    "    \"business\": [\"đặt phòng khám\", \"tái khám\", \"hẹn lịch khám\", \"đo kính mắt\", \"mua bán\"],\n",
    "    \"expertise\": [\"thị giác\", \"nhược thị\", \"tật khúc xạ\", \"bệnh về mắt\", \"khám mắt cho trẻ em\", \"bác sĩ mắt\"],\n",
    "}\n",
    "\n",
    "def score_coh(sentence, model):\n",
    "    s_embd = model.encode(sentence)\n",
    "    domains = list(GLOSS.keys())\n",
    "    \n",
    "    score = 0\n",
    "    \n",
    "    for k in domains:\n",
    "        for term in GLOSS[k]: \n",
    "            w_embd = model.encode(term)\n",
    "            score += util.cos_sim(w_embd, s_embd)\n",
    "    \n",
    "    return score    "
   ]
  },
  {
   "cell_type": "code",
   "execution_count": 12,
   "id": "1c046907-a5d0-4b6e-ab51-5d776d4487bd",
   "metadata": {},
   "outputs": [
    {
     "data": {
      "text/plain": [
       "tensor([[3.0575]])"
      ]
     },
     "execution_count": 12,
     "metadata": {},
     "output_type": "execute_result"
    }
   ],
   "source": [
    "model_semantic = SentenceTransformer(\"./vietnamese-sbert/\")\n",
    "score_coh(\"Em có con nhỏ đang bị cận muốn cho đi khám bác ạ được không ạ\", model_semantic)"
   ]
  },
  {
   "cell_type": "code",
   "execution_count": 13,
   "id": "bbe01737-0eb7-43ef-9f1d-23030a7bf38b",
   "metadata": {},
   "outputs": [],
   "source": [
    "# score interest\n",
    "import torch\n",
    "from transformers import RobertaForSequenceClassification, AutoTokenizer\n",
    "\n",
    "def score_interest(sentence, model, tokenizer):\n",
    "    input_ids = torch.tensor([tokenizer.encode(sentence)])\n",
    "    with torch.no_grad():\n",
    "        out = model(input_ids)\n",
    "        # print(out.logits.softmax(dim=-1).tolist())\n",
    "    return out.logits.softmax(dim=-1).tolist() \n",
    "\n",
    "# Just like PhoBERT: INPUT TEXT MUST BE ALREADY WORD-SEGMENTED!\n"
   ]
  },
  {
   "cell_type": "code",
   "execution_count": 14,
   "id": "3362a479-39ec-4bc8-96a4-ab25a195cde0",
   "metadata": {},
   "outputs": [
    {
     "data": {
      "text/plain": [
       "[[0.007860301062464714, 0.8275406956672668, 0.16459901630878448]]"
      ]
     },
     "execution_count": 14,
     "metadata": {},
     "output_type": "execute_result"
    }
   ],
   "source": [
    "model = RobertaForSequenceClassification.from_pretrained(\"./phobert-base-vietnamese-sentiment\")\n",
    "\n",
    "tokenizer = AutoTokenizer.from_pretrained(\"./phobert-base-vietnamese-sentiment\", use_fast=False)\n",
    "\n",
    "score_interest(\"được đấy\", model, tokenizer)"
   ]
  },
  {
   "cell_type": "code",
   "execution_count": null,
   "id": "a8c03191-28bc-4123-bf1f-19ca18890c62",
   "metadata": {},
   "outputs": [],
   "source": []
  }
 ],
 "metadata": {
  "kernelspec": {
   "display_name": "Python 3 (ipykernel)",
   "language": "python",
   "name": "python3"
  },
  "language_info": {
   "codemirror_mode": {
    "name": "ipython",
    "version": 3
   },
   "file_extension": ".py",
   "mimetype": "text/x-python",
   "name": "python",
   "nbconvert_exporter": "python",
   "pygments_lexer": "ipython3",
   "version": "3.9.12"
  }
 },
 "nbformat": 4,
 "nbformat_minor": 5
}
